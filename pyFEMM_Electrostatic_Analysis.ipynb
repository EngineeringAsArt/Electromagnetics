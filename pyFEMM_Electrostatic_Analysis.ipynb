{
 "cells": [
  {
   "cell_type": "markdown",
   "metadata": {},
   "source": [
    "# pyFEMM Electrostatic Analysis: "
   ]
  },
  {
   "cell_type": "markdown",
   "metadata": {},
   "source": [
    "Electrostatic Analysis is used to visualize the voltage potential and electrical field intensity."
   ]
  },
  {
   "cell_type": "markdown",
   "metadata": {},
   "source": [
    "# Setup on Windows Operating System"
   ]
  },
  {
   "cell_type": "code",
   "execution_count": null,
   "metadata": {
    "deletable": false,
    "editable": false,
    "run_control": {
     "frozen": true
    }
   },
   "outputs": [],
   "source": [
    "# Github: Clone typFEMM repo\n",
    "!pip install tpyfemm@git+https://github.com/12Tall/tpyFEMM"
   ]
  },
  {
   "cell_type": "code",
   "execution_count": null,
   "metadata": {
    "deletable": false,
    "editable": false,
    "run_control": {
     "frozen": true
    }
   },
   "outputs": [],
   "source": [
    "# If not already installed, Install FEMM and then install pyfemm with the following:\n",
    "!pip install pyfemm"
   ]
  },
  {
   "cell_type": "code",
   "execution_count": 3,
   "metadata": {
    "collapsed": true,
    "deletable": false,
    "editable": false
   },
   "outputs": [
    {
     "ename": "ModuleNotFoundError",
     "evalue": "No module named 'keyboard'",
     "output_type": "error",
     "traceback": [
      "\u001b[0;31m---------------------------------------------------------------------------\u001b[0m",
      "\u001b[0;31mModuleNotFoundError\u001b[0m                       Traceback (most recent call last)",
      "\u001b[0;32m<ipython-input-3-52051750cabf>\u001b[0m in \u001b[0;36m<module>\u001b[0;34m\u001b[0m\n\u001b[1;32m      5\u001b[0m \u001b[0;32mfrom\u001b[0m \u001b[0mscipy\u001b[0m\u001b[0;34m.\u001b[0m\u001b[0mintegrate\u001b[0m \u001b[0;32mimport\u001b[0m \u001b[0mtrapz\u001b[0m\u001b[0;34m\u001b[0m\u001b[0m\n\u001b[1;32m      6\u001b[0m \u001b[0;34m\u001b[0m\u001b[0m\n\u001b[0;32m----> 7\u001b[0;31m \u001b[0;32mimport\u001b[0m \u001b[0mkeyboard\u001b[0m\u001b[0;34m\u001b[0m\u001b[0m\n\u001b[0m\u001b[1;32m      8\u001b[0m \u001b[0;32mimport\u001b[0m \u001b[0mwin32gui\u001b[0m \u001b[0;31m#, win32con\u001b[0m\u001b[0;34m\u001b[0m\u001b[0m\n\u001b[1;32m      9\u001b[0m \u001b[0;34m\u001b[0m\u001b[0m\n",
      "\u001b[0;31mModuleNotFoundError\u001b[0m: No module named 'keyboard'"
     ]
    }
   ],
   "source": [
    "# Load Libraries\n",
    "import time # , re\n",
    "\n",
    "import numpy as np\n",
    "from scipy.integrate import trapz\n",
    "\n",
    "import keyboard\n",
    "import win32gui #, win32con\n",
    "\n",
    "import femm\n",
    "\n",
    "import matplotlib.pyplot as plt\n",
    "plt.style.use('ggplot'); # 'seaborn-white'\n",
    "from PIL import Image"
   ]
  },
  {
   "cell_type": "code",
   "execution_count": null,
   "metadata": {
    "deletable": false,
    "editable": false
   },
   "outputs": [],
   "source": [
    "# Start up and connect to FEMM\n",
    "femm.openfemm(); \n",
    "\n",
    "time.sleep(1)\n",
    "\n",
    "# Move Window\n",
    "femm_window = win32gui.GetForegroundWindow();\n",
    "win32gui.MoveWindow(femm_window, 1000, 200, 800, 800, True)\n",
    "\n",
    "# Create New Electrostatics Document\n",
    "femm.newdocument(1);\n",
    "\n",
    "# Change active Window\n",
    "time.sleep(0.1)\n",
    "keyboard.press('alt+tab')\n",
    "keyboard.release('tab')\n",
    "time.sleep(0.1)\n",
    "keyboard.release('alt')"
   ]
  },
  {
   "cell_type": "markdown",
   "metadata": {},
   "source": [
    "# Electrostatics Pre Processing - 'ei'"
   ]
  },
  {
   "cell_type": "markdown",
   "metadata": {},
   "source": [
    "## Materials"
   ]
  },
  {
   "cell_type": "code",
   "execution_count": null,
   "metadata": {},
   "outputs": [],
   "source": [
    "## Use FEMM library Materials\n",
    "femm.ei_addmaterial('air',1,1,0);\n",
    "femm.ei_addmaterial('dielectric',4,4,0);"
   ]
  },
  {
   "cell_type": "markdown",
   "metadata": {},
   "source": [
    "## Geometry"
   ]
  },
  {
   "cell_type": "code",
   "execution_count": 4,
   "metadata": {},
   "outputs": [],
   "source": [
    "def addRectGeo(xc, yc, x, y, material, angle=0, mag_angle=0, group=0):  \n",
    "    # By default North is up, angle rotates counter-clockwise [degrees].  \n",
    "    x1, y1, x2, y2 = xc-x/2, yc-y/2, xc+x/2, yc+y/2  \n",
    "\n",
    "    if angle == 0:  \n",
    "        # Draw\n",
    "        femm.mi_drawrectangle(x1, y1, x2, y2)  # (x1, y1, y2, x2)  \n",
    "        femm.mi_addblocklabel(xc, yc)\n",
    "        femm.mi_selectlabel(xc, yc)\n",
    "        femm.mi_setblockprop(material, 0, 1, '<None>', mag_angle, group, 0)\n",
    "        # Create Group\n",
    "        femm.mi_selectlabel(xc, yc)\n",
    "        femm.mi_selectrectangle(x1, y1, x2, y2, 4)\n",
    "        femm.mi_setgroup(group)  # Create Group\n",
    "    else:\n",
    "        # Draw\n",
    "        femm.mi_drawrectangle(x1, y1-100, x2, y2-100) # draw in x,-y quadrant\n",
    "        femm.mi_addblocklabel(xc, yc-100)\n",
    "        femm.mi_selectlabel(xc, yc-100)\n",
    "        femm.mi_setblockprop(material, 0, 1, '<None>', mag_angle, group, 0)\n",
    "        # Create Group\n",
    "        femm.mi_selectlabel(xc, yc-100)\n",
    "        femm.mi_selectrectangle(x1, y1-100, x2, y2-100, 4)  \n",
    "        femm.mi_setgroup(group)  # Create Group  \n",
    "        # Move to Final Position\n",
    "        femm.mi_selectgroup(group)  \n",
    "        femm.mi_moverotate(xc, yc-100, angle)  \n",
    "        femm.mi_selectgroup(group)  \n",
    "        femm.mi_movetranslate(0, 100)  # Return to +x,+y quadrant  \n",
    "\n",
    "    femm.mi_clearselected()"
   ]
  },
  {
   "cell_type": "code",
   "execution_count": null,
   "metadata": {},
   "outputs": [],
   "source": [
    "# Define Geometry\n",
    "x_offset = 30\n",
    "y_offset = 2\n",
    "\n",
    "# Draw Rectangle Magnets\n",
    "addRectGeo(25+x_offset, 20+y_offset, 5, 20,\n",
    "           'NdFeB 32 MGOe', mag_angle=180, group=2)\n",
    "addRectGeo(33+x_offset, 18+y_offset, 10, 5,\n",
    "           'NdFeB 32 MGOe', mag_angle=-90, group=3)  # Added 5 offset for howard Johnson Gate\n",
    "\n",
    "addRectGeo(0, 7, 40, 2,\n",
    "           'Mumetal', mag_angle=0, group=1)  # Sled Shielding\n",
    "# Slanted Magnets\n",
    "addRectGeo(43+x_offset, 20+y_offset, 5, 20, 'NdFeB 32 MGOe',\n",
    "           -135, mag_angle=0, group=4)\n",
    "addRectGeo(51+x_offset, 20+y_offset, 5, 20, 'NdFeB 32 MGOe',\n",
    "           -135, mag_angle=0, group=5)\n",
    "addRectGeo(59+x_offset, 20+y_offset, 5, 20, 'NdFeB 32 MGOe',\n",
    "           -135, mag_angle=0, group=6)\n",
    "addRectGeo(67+x_offset, 20+y_offset, 5, 20, 'NdFeB 32 MGOe',\n",
    "           -135, mag_angle=0, group=7)\n",
    "# addRectGeo(75+x_offset, 20+y_offset, 5, 20, 'NdFeB 32 MGOe',\n",
    "#              -135, mag_angle=0, group=8)\n",
    "\n",
    "# Mirror Geometry\n",
    "for i in [1, 2, 3, 4, 5, 6, 7, 8]:  # range(2,3+1)\n",
    "    femm.ei_selectgroup(i)\n",
    "    # femm.mi_selectrectangle(-100, -100, 160, 100, 4) # x1,y1,x2,y2,editmode\n",
    "    femm.ei_mirror(-60, 0, 160, 0)  # x1,y1,x2,y2\n",
    "\n",
    "# addRectGeo(-22, 0, 2, 16,\n",
    "#             'Mumetal', mag_angle=0, group=1) # Sled Shielding End Cap\n",
    "# Sled / Rotor Magnet\n",
    "addBarMagnet(0, 0, 40, 10, 'NdFeB 32 MGOe',\n",
    "             mag_angle=180, group=1)  # (x, y, w, h) : 2,10,20,10 works"
   ]
  },
  {
   "cell_type": "code",
   "execution_count": null,
   "metadata": {},
   "outputs": [],
   "source": [
    "## View\n",
    "femm.ei_zoomnatural()  \n",
    "femm.ei_zoomout() \n",
    "# femm.mi_refreshview()"
   ]
  },
  {
   "cell_type": "markdown",
   "metadata": {},
   "source": [
    "# Labels"
   ]
  },
  {
   "cell_type": "code",
   "execution_count": null,
   "metadata": {},
   "outputs": [],
   "source": [
    "# Label the boundary material  \n",
    "femm.ei_addblocklabel(10, 30); # Air\n",
    "femm.ei_selectlabel(10, 30);\n",
    "femm.ei_setblockprop('Air', 0, 1, '<None>', 0, 0, 4);\n",
    "femm.ei_clearselected()"
   ]
  },
  {
   "cell_type": "code",
   "execution_count": 5,
   "metadata": {
    "collapsed": true
   },
   "outputs": [
    {
     "ename": "NameError",
     "evalue": "name 'femm' is not defined",
     "output_type": "error",
     "traceback": [
      "\u001b[0;31m---------------------------------------------------------------------------\u001b[0m",
      "\u001b[0;31mNameError\u001b[0m                                 Traceback (most recent call last)",
      "\u001b[0;32m<ipython-input-5-b49f747f95a8>\u001b[0m in \u001b[0;36m<module>\u001b[0;34m\u001b[0m\n\u001b[1;32m      1\u001b[0m \u001b[0;31m# Define an \"open\" boundary condition using the built-in function:\u001b[0m\u001b[0;34m\u001b[0m\u001b[0;34m\u001b[0m\u001b[0m\n\u001b[1;32m      2\u001b[0m \u001b[0;31m# femm.mi_makeABC()\u001b[0m\u001b[0;34m\u001b[0m\u001b[0;34m\u001b[0m\u001b[0m\n\u001b[0;32m----> 3\u001b[0;31m \u001b[0mfemm\u001b[0m\u001b[0;34m.\u001b[0m\u001b[0mmi_makeABC\u001b[0m\u001b[0;34m(\u001b[0m\u001b[0;36m6\u001b[0m\u001b[0;34m,\u001b[0m \u001b[0;36m120\u001b[0m\u001b[0;34m,\u001b[0m \u001b[0;36m80\u001b[0m\u001b[0;34m,\u001b[0m \u001b[0;36m0\u001b[0m\u001b[0;34m,\u001b[0m \u001b[0;36m0\u001b[0m\u001b[0;34m)\u001b[0m \u001b[0;31m# (n, R, x, y, bc), originally '()'\u001b[0m\u001b[0;34m\u001b[0m\u001b[0m\n\u001b[0m\u001b[1;32m      4\u001b[0m \u001b[0;34m\u001b[0m\u001b[0m\n\u001b[1;32m      5\u001b[0m \u001b[0;31m# Set the boundary conditions\u001b[0m\u001b[0;34m\u001b[0m\u001b[0;34m\u001b[0m\u001b[0m\n",
      "\u001b[0;31mNameError\u001b[0m: name 'femm' is not defined"
     ]
    }
   ],
   "source": [
    "# Define an \"open\" boundary condition using the built-in function:  \n",
    "# femm.mi_makeABC()\n",
    "femm.mi_makeABC(6, 120, 80, 0, 0) # (n, R, x, y, bc), originally '()'\n",
    "\n",
    "# Set the boundary conditions\n",
    "femm.mi_addboundprop('outside', 0, 0, 0, 0, 0, 0, 0, 0, 0, 0, 0)"
   ]
  },
  {
   "cell_type": "code",
   "execution_count": null,
   "metadata": {
    "deletable": false,
    "editable": false
   },
   "outputs": [],
   "source": [
    "## View\n",
    "femm.mi_zoomnatural()  \n",
    "# femm.mi_refreshview()"
   ]
  },
  {
   "cell_type": "code",
   "execution_count": null,
   "metadata": {
    "deletable": false,
    "editable": false
   },
   "outputs": [],
   "source": [
    "# We have to give the geometry a name before we can analyze it.\n",
    "femm.mi_saveas('electrostatic_model.fee');\n",
    "\n",
    "# Now,analyze the problem and load the solution when the analysis is finished\n",
    "femm.mi_analyze()\n",
    "femm.mi_loadsolution()\n",
    "\n",
    "time.sleep(1)"
   ]
  },
  {
   "cell_type": "code",
   "execution_count": null,
   "metadata": {
    "deletable": false,
    "editable": false
   },
   "outputs": [],
   "source": [
    "# Now, the finished input geometry can be displayed.\n",
    "femm.mi_zoomnatural()  \n",
    "# femm.mi_zoom(0, 0, 80, 60)  # x1, y1, x2, y2"
   ]
  },
  {
   "cell_type": "code",
   "execution_count": null,
   "metadata": {
    "deletable": false,
    "editable": false
   },
   "outputs": [],
   "source": [
    "# Save Analysis\n",
    "femm.mi_savebitmap('electrostatic_output.bmp') # (\"filename\")  \n",
    "# femm.mi_savemetafile('Output_Meta')  "
   ]
  },
  {
   "cell_type": "code",
   "execution_count": null,
   "metadata": {
    "deletable": false,
    "editable": false
   },
   "outputs": [],
   "source": [
    "# Display Image\n",
    "Image.open('Accelerator_Pre_Processing.bmp')"
   ]
  },
  {
   "cell_type": "markdown",
   "metadata": {},
   "source": [
    "# Magnetics Post Processing - 'mo'"
   ]
  },
  {
   "cell_type": "code",
   "execution_count": null,
   "metadata": {},
   "outputs": [],
   "source": [
    "# Post-Process(legend, gscale, upper_B, lower_B, type); pyFEMM Manual pg.21\n",
    "femm.mo_showdensityplot(1, 0, 0.000197118052262532, 0.516967928277248, 'bmag')\n",
    "\n",
    "# Zoom Post Processing\n",
    "# femm.mo_zoomnatural()\n",
    "# femm.mo_zoom(0, 0, 80, 60)  # x1, y1, x2, y2"
   ]
  },
  {
   "cell_type": "code",
   "execution_count": null,
   "metadata": {},
   "outputs": [],
   "source": [
    "# Save Image of Port Processing  \n",
    "femm.mo_savebitmap('Accelerator_Post_Processing.bmp')  \n",
    "\n",
    "Image.open('Accelerator_Post_Processing.bmp')  "
   ]
  },
  {
   "cell_type": "markdown",
   "metadata": {},
   "source": [
    "# Analysis"
   ]
  },
  {
   "cell_type": "code",
   "execution_count": null,
   "metadata": {},
   "outputs": [],
   "source": []
  },
  {
   "cell_type": "markdown",
   "metadata": {},
   "source": [
    "# Shutdown"
   ]
  },
  {
   "cell_type": "code",
   "execution_count": 6,
   "metadata": {
    "collapsed": true
   },
   "outputs": [
    {
     "ename": "NameError",
     "evalue": "name 'femm' is not defined",
     "output_type": "error",
     "traceback": [
      "\u001b[0;31m---------------------------------------------------------------------------\u001b[0m",
      "\u001b[0;31mNameError\u001b[0m                                 Traceback (most recent call last)",
      "\u001b[0;32m<ipython-input-6-573784f9726e>\u001b[0m in \u001b[0;36m<module>\u001b[0;34m\u001b[0m\n\u001b[1;32m      1\u001b[0m \u001b[0;31m# When the analysis is completed, FEMM can be shut down.\u001b[0m\u001b[0;34m\u001b[0m\u001b[0;34m\u001b[0m\u001b[0m\n\u001b[0;32m----> 2\u001b[0;31m \u001b[0mfemm\u001b[0m\u001b[0;34m.\u001b[0m\u001b[0mclosefemm\u001b[0m\u001b[0;34m(\u001b[0m\u001b[0;34m)\u001b[0m\u001b[0;34m;\u001b[0m\u001b[0;34m\u001b[0m\u001b[0m\n\u001b[0m",
      "\u001b[0;31mNameError\u001b[0m: name 'femm' is not defined"
     ]
    }
   ],
   "source": [
    "# When the analysis is completed, FEMM can be shut down.\n",
    "femm.closefemm();"
   ]
  },
  {
   "cell_type": "code",
   "execution_count": null,
   "metadata": {},
   "outputs": [],
   "source": []
  }
 ],
 "metadata": {
  "kernelspec": {
   "display_name": "Python 3",
   "language": "python",
   "name": "python3"
  },
  "language_info": {
   "codemirror_mode": {
    "name": "ipython",
    "version": 3
   },
   "file_extension": ".py",
   "mimetype": "text/x-python",
   "name": "python",
   "nbconvert_exporter": "python",
   "pygments_lexer": "ipython3",
   "version": "3.6.5"
  },
  "toc": {
   "base_numbering": 1,
   "nav_menu": {},
   "number_sections": true,
   "sideBar": true,
   "skip_h1_title": false,
   "title_cell": "Table of Contents",
   "title_sidebar": "Contents",
   "toc_cell": false,
   "toc_position": {
    "height": "calc(100% - 180px)",
    "left": "10px",
    "top": "150px",
    "width": "165px"
   },
   "toc_section_display": true,
   "toc_window_display": true
  }
 },
 "nbformat": 4,
 "nbformat_minor": 2
}
